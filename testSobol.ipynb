{
 "cells": [
  {
   "cell_type": "code",
   "execution_count": 1,
   "id": "982998df-c0aa-4c02-822a-e9401ad84416",
   "metadata": {},
   "outputs": [
    {
     "ename": "ModuleNotFoundError",
     "evalue": "No module named 'SALib'",
     "output_type": "error",
     "traceback": [
      "\u001b[0;31m---------------------------------------------------------------------------\u001b[0m",
      "\u001b[0;31mModuleNotFoundError\u001b[0m                       Traceback (most recent call last)",
      "\u001b[0;32m/tmp/ipykernel_21571/2701304316.py\u001b[0m in \u001b[0;36m<cell line: 19>\u001b[0;34m()\u001b[0m\n\u001b[1;32m     17\u001b[0m \u001b[0;31m#from phloem_flux import PhloemFluxPython\u001b[0m\u001b[0;34m\u001b[0m\u001b[0;34m\u001b[0m\u001b[0;34m\u001b[0m\u001b[0m\n\u001b[1;32m     18\u001b[0m \u001b[0;32mimport\u001b[0m \u001b[0mpickle\u001b[0m\u001b[0;34m\u001b[0m\u001b[0;34m\u001b[0m\u001b[0m\n\u001b[0;32m---> 19\u001b[0;31m \u001b[0;32mfrom\u001b[0m \u001b[0mSALib\u001b[0m\u001b[0;34m.\u001b[0m\u001b[0msample\u001b[0m \u001b[0;32mimport\u001b[0m \u001b[0msaltelli\u001b[0m\u001b[0;34m\u001b[0m\u001b[0;34m\u001b[0m\u001b[0m\n\u001b[0m\u001b[1;32m     20\u001b[0m \u001b[0;32mfrom\u001b[0m \u001b[0mSALib\u001b[0m\u001b[0;34m.\u001b[0m\u001b[0manalyze\u001b[0m \u001b[0;32mimport\u001b[0m \u001b[0msobol\u001b[0m\u001b[0;34m\u001b[0m\u001b[0;34m\u001b[0m\u001b[0m\n\u001b[1;32m     21\u001b[0m \u001b[0;32mfrom\u001b[0m \u001b[0mSALib\u001b[0m\u001b[0;34m.\u001b[0m\u001b[0mtest_functions\u001b[0m \u001b[0;32mimport\u001b[0m \u001b[0mIshigami\u001b[0m\u001b[0;34m\u001b[0m\u001b[0;34m\u001b[0m\u001b[0m\n",
      "\u001b[0;31mModuleNotFoundError\u001b[0m: No module named 'SALib'"
     ]
    }
   ],
   "source": [
    "\n",
    "import sys; \n",
    "CPBdir = \"../..\"\n",
    "sys.path.append(CPBdir+\"/src\");\n",
    "sys.path.append(CPBdir);\n",
    "sys.path.append(\"../..\");sys.path.append(\"..\"); \n",
    "sys.path.append(CPBdir+\"/src/python_modules\");\n",
    "sys.path.append(\"../build-cmake/cpp/python_binding/\") # dumux python binding\n",
    "sys.path.append(\"../../build-cmake/cpp/python_binding/\")\n",
    "sys.path.append(\"../modules/\") # python wrappers \n",
    "import numpy as np\n",
    "import json\n",
    "#import plantbox as pb\n",
    "import importlib\n",
    "#importlib.reload(pb)\n",
    "#import plantbox\n",
    "#importlib.reload(plantbox)\n",
    "#from phloem_flux import PhloemFluxPython \n",
    "import pickle\n",
    "from SALib.sample import saltelli\n",
    "from SALib.analyze import sobol\n",
    "from SALib.test_functions import Ishigami\n",
    "#from joblib import Parallel, delayed\n",
    "import os \n",
    "#from helpUqr_seb import *\n",
    "simDuration = 10;condition = \"wet\";"
   ]
  },
  {
   "cell_type": "code",
   "execution_count": 1,
   "id": "b9eb952d-1656-4b25-b466-2d83294df3ba",
   "metadata": {},
   "outputs": [
    {
     "name": "stdout",
     "output_type": "stream",
     "text": [
      "Collecting SALib\n",
      "  Downloading salib-1.4.7-py3-none-any.whl (757 kB)\n",
      "\u001b[K     |████████████████████████████████| 757 kB 13.2 MB/s eta 0:00:01\n",
      "\u001b[?25hRequirement already satisfied: numpy>=1.20.3 in /p/software/jurecadc/stages/2022/software/SciPy-bundle/2021.10-gcccoremkl-11.2.0-2021.4.0/lib/python3.9/site-packages (from SALib) (1.21.3)\n",
      "Requirement already satisfied: pandas>=1.1.2 in /p/software/jurecadc/stages/2022/software/SciPy-bundle/2021.10-gcccoremkl-11.2.0-2021.4.0/lib/python3.9/site-packages (from SALib) (1.3.4)\n",
      "Collecting scipy>=1.7.3\n",
      "  Downloading scipy-1.10.1-cp39-cp39-manylinux_2_17_x86_64.manylinux2014_x86_64.whl (34.5 MB)\n",
      "\u001b[K     |████████████████████████████████| 34.5 MB 54.8 MB/s eta 0:00:01\n",
      "\u001b[?25hCollecting multiprocess\n",
      "  Downloading multiprocess-0.70.14-py39-none-any.whl (132 kB)\n",
      "\u001b[K     |████████████████████████████████| 132 kB 57.5 MB/s eta 0:00:01\n",
      "\u001b[?25hRequirement already satisfied: matplotlib>=3.2.2 in /p/software/jurecadc/stages/2022/software/matplotlib/3.4.3-gcccoremkl-11.2.0-2021.4.0/lib/python3.9/site-packages (from SALib) (3.4.3)\n",
      "Requirement already satisfied: kiwisolver>=1.0.1 in /p/software/jurecadc/stages/2022/software/matplotlib/3.4.3-gcccoremkl-11.2.0-2021.4.0/lib/python3.9/site-packages (from matplotlib>=3.2.2->SALib) (1.3.2)\n",
      "Requirement already satisfied: cycler>=0.10 in /p/software/jurecadc/stages/2022/software/matplotlib/3.4.3-gcccoremkl-11.2.0-2021.4.0/lib/python3.9/site-packages (from matplotlib>=3.2.2->SALib) (0.11.0)\n",
      "Requirement already satisfied: pyparsing>=2.2.1 in /p/software/jurecadc/stages/2022/software/Python/3.9.6-GCCcore-11.2.0/lib/python3.9/site-packages (from matplotlib>=3.2.2->SALib) (2.4.7)\n",
      "Requirement already satisfied: python-dateutil>=2.7 in /p/software/jurecadc/stages/2022/software/Python/3.9.6-GCCcore-11.2.0/lib/python3.9/site-packages (from matplotlib>=3.2.2->SALib) (2.8.2)\n",
      "Requirement already satisfied: pillow>=6.2.0 in /p/software/jurecadc/stages/2022/software/Pillow-SIMD/9.0.1-GCCcore-11.2.0/lib/python3.9/site-packages (from matplotlib>=3.2.2->SALib) (9.0.1)\n",
      "Requirement already satisfied: pytz>=2017.3 in /p/software/jurecadc/stages/2022/software/Python/3.9.6-GCCcore-11.2.0/lib/python3.9/site-packages (from pandas>=1.1.2->SALib) (2021.1)\n",
      "Requirement already satisfied: six>=1.5 in /p/software/jurecadc/stages/2022/software/Python/3.9.6-GCCcore-11.2.0/lib/python3.9/site-packages (from python-dateutil>=2.7->matplotlib>=3.2.2->SALib) (1.16.0)\n",
      "Collecting dill>=0.3.6\n",
      "  Downloading dill-0.3.6-py3-none-any.whl (110 kB)\n",
      "\u001b[K     |████████████████████████████████| 110 kB 57.1 MB/s eta 0:00:01\n",
      "\u001b[?25hInstalling collected packages: dill, scipy, multiprocess, SALib\n",
      "  Attempting uninstall: dill\n",
      "    Found existing installation: dill 0.3.4\n",
      "    Uninstalling dill-0.3.4:\n",
      "\u001b[31mERROR: Could not install packages due to an OSError: [Errno 13] Permission denied: '/p/software/jurecadc/stages/2022/software/Jupyter/2022.3.3-gcccoremkl-11.2.0-2021.4.0/bin/get_objgraph'\n",
      "Consider using the `--user` option or check the permissions.\n",
      "\u001b[0m\n"
     ]
    }
   ],
   "source": [
    "!pip install SALib"
   ]
  },
  {
   "cell_type": "code",
   "execution_count": 13,
   "id": "5fa9154a-1fa7-49f2-955c-acc3aa510ebc",
   "metadata": {},
   "outputs": [
    {
     "name": "stdout",
     "output_type": "stream",
     "text": [
      "power2, cpu 7 80\n"
     ]
    },
    {
     "name": "stderr",
     "output_type": "stream",
     "text": [
      "/tmp/ipykernel_20553/2300162857.py:39: DeprecationWarning: `salib.sample.saltelli` will be removed in SALib 1.5. Please use `salib.sample.sobol`\n",
      "  param_values = saltelli.sample(problem, reps)\n"
     ]
    },
    {
     "name": "stdout",
     "output_type": "stream",
     "text": [
      "num thread 20736 80 216.0 vale per thread 80\n"
     ]
    },
    {
     "data": {
      "text/plain": [
       "1.8620689655172413"
      ]
     },
     "execution_count": 13,
     "metadata": {},
     "output_type": "execute_result"
    }
   ],
   "source": [
    "power2 =7\n",
    "#weatherX = weather(simDuration, condition, 1)\n",
    "#assert weatherX['Qlight']>0\n",
    "\n",
    "\n",
    "\n",
    "\n",
    "namesVars = [\"maxTil\" ,\"firstTil\",\"delayTil\" ,\"maxB\",\"firstB\",\"delayB\",\n",
    "             \"delayLat\",\"delayNGStart\",\"delayNGEnd\",\n",
    "    \"lar0\", \"lbr0\", \"lnr0\", \"lmaxr0\", \"rr0\", \"ar0\", \"tropismNr0\", \"tropismSr0\", \"thetar0\",\n",
    "    \"lar1\", \"lbr1\", \"lnr1\", \"lmaxr1\", \"rr1\", \"ar1\", \"tropismNr1\", \"tropismSr1\", \"thetar1\",\n",
    "     \"lmaxr2\", \"rr2\", \"ar2\", \"tropismNr2\", \"tropismSr2\", \"thetar2\",\n",
    "    \"last\", \"lbst\", \"lnst\", \"lmaxst\", \"rst\", \"ast\", \"tropismNst\", \"tropismSst\",\n",
    "     \"lmaxle\", \"rle\", \"ale\", \"tropismNle\", \"tropismSle\", \"thetale\",\"Width_petiole\",\"Width_blade\",\n",
    "            'Chl','oi','k_fw1','psi_t,crit,1',\n",
    "                  'kchl1', 'kchl2','kg1','kjmax', 'alpha',\n",
    "                     'omega','gamma0', 'gamma1', 'gamma2','gm',\n",
    "                 'kx_x','kr_x',\n",
    "            'Q10','delta_osmo_min','psiMin','KMfu','Vmaxloading','CSTimin',\n",
    "                  'beta_loading', 'Mloading','Gr_Y','rhoSucrose',\n",
    "                 'kx_st','kr_st','Across','krm2','krm1']   \n",
    "\n",
    "#namesVars =[\"maxTil\" ,\"firstTil\",\"delayTil\"]\n",
    "limsVars = [[0.5,1.5] for ii in namesVars]\n",
    "problem = {\n",
    "    'num_vars': len(namesVars),\n",
    "    'names': namesVars,\n",
    "    'bounds': limsVars\n",
    "}\n",
    "\n",
    "\n",
    "##### TO CHANGE ######\n",
    "#power2 = 6\n",
    "reps =2**power2\n",
    "maxcore =  os.cpu_count()\n",
    "print('power2, cpu',power2, maxcore)\n",
    "######################\n",
    "\n",
    "param_values = saltelli.sample(problem, reps)\n",
    "\n",
    "\n",
    "\n",
    "\n",
    "#Yexuds = np.array([])\n",
    "#Ygrs  = np.array([])\n",
    "#Yrms = np.array([])\n",
    "#Ytrans = np.array([])\n",
    "#Yassi  = np.array([])\n",
    "#Ywue = np.array([])\n",
    "\n",
    "Yall = [np.array([]) for i in range(7)]#Yexuds,Ygrs,Yrms,Ytrans,Yassi,Ywue]\n",
    "namesY = [\"Yexuds\",\"Ygrs\",\"Yrms\",\"Ytrans\",\"Yassi\",\"Ywue\",\"YIwue\"]\n",
    "allLoops = np.array([])\n",
    "print(\"num thread\",len(param_values),maxcore,len(param_values)/96,\"vale per thread\", len(namesVars))\n",
    "with open('param_valuesAll'+str(power2)+'.pkl','wb') as f:\n",
    "         pickle.dump(param_values,f, protocol=pickle.HIGHEST_PROTOCOL)\n",
    "with open('param_valuesAll'+str(power2)+'.pkl','rb') as f:\n",
    "         tmp_obj=pickle.load(f) \n",
    "len(tmp_obj)/(116*48*2)"
   ]
  },
  {
   "cell_type": "code",
   "execution_count": 47,
   "id": "5599f8b9-17d3-4706-a0e1-65cb7cf67b7a",
   "metadata": {},
   "outputs": [
    {
     "name": "stdout",
     "output_type": "stream",
     "text": [
      "power2, cpu 10\n"
     ]
    },
    {
     "name": "stderr",
     "output_type": "stream",
     "text": [
      "/tmp/ipykernel_20553/133191364.py:33: DeprecationWarning: `salib.sample.saltelli` will be removed in SALib 1.5. Please use `salib.sample.sobol`\n",
      "  param_values = saltelli.sample(problem, reps)\n"
     ]
    },
    {
     "name": "stdout",
     "output_type": "stream",
     "text": [
      "num thread 67584 704.0 vale per thread 32\n",
      "32 32\n"
     ]
    }
   ],
   "source": [
    "power2 =10\n",
    "#weatherX = weather(simDuration, condition, 1)\n",
    "#assert weatherX['Qlight']>0\n",
    "\n",
    "\n",
    "\n",
    "\n",
    "namesVars = [\n",
    "            'Chl','oi','k_fw1','psi_t,crit,1',\n",
    "                  'kchl1', 'kchl2','kg1','kjmax', 'alpha',\n",
    "                     'omega','gamma0', 'gamma1', 'gamma2','gm',\n",
    "                 'kx_x','kr_x',\n",
    "            'Q10','delta_osmo_min','psiMin','KMfu','Vmaxloading','CSTimin',\n",
    "                  'beta_loading', 'Mloading','Gr_Y','rhoSucrose',\n",
    "                 'kx_st','kr_st','Across','krm2','krm1','rmax']   \n",
    "\n",
    "\n",
    "#namesVars =[\"maxTil\" ,\"firstTil\",\"delayTil\"]\n",
    "limsVars = [[0.5,1.5] for ii in namesVars]\n",
    "problem = {\n",
    "    'num_vars': len(namesVars),\n",
    "    'names': namesVars,\n",
    "    'bounds': limsVars\n",
    "}\n",
    "\n",
    "\n",
    "##### TO CHANGE ######\n",
    "#power2 = 6\n",
    "reps =2**power2\n",
    "print('power2, cpu',power2)\n",
    "######################\n",
    "\n",
    "param_values = saltelli.sample(problem, reps)\n",
    "\n",
    "\n",
    "\n",
    "\n",
    "#Yexuds = np.array([])\n",
    "#Ygrs  = np.array([])\n",
    "#Yrms = np.array([])\n",
    "#Ytrans = np.array([])\n",
    "#Yassi  = np.array([])\n",
    "#Ywue = np.array([])\n",
    "\n",
    "Yall = [np.array([]) for i in range(7)]#Yexuds,Ygrs,Yrms,Ytrans,Yassi,Ywue]\n",
    "namesY = [\"Yexuds\",\"Ygrs\",\"Yrms\",\"Ytrans\",\"Yassi\",\"Ywue\",\"YIwue\"]\n",
    "allLoops = np.array([])\n",
    "print(\"num thread\",len(param_values),len(param_values)/96,\"vale per thread\", len(namesVars))\n",
    "with open('param_valuesfunctional'+str(power2)+'.pkl','wb') as f:\n",
    "         pickle.dump(param_values,f, protocol=pickle.HIGHEST_PROTOCOL)\n",
    "with open('param_valuesfunctional'+str(power2)+'.pkl','rb') as f:\n",
    "         tmp_obj=pickle.load(f) \n",
    "print(len(param_values[0]),len(namesVars) )"
   ]
  },
  {
   "cell_type": "code",
   "execution_count": 10,
   "id": "c085ac86-c486-4034-8d0b-81455a84e24c",
   "metadata": {},
   "outputs": [
    {
     "ename": "ValueError",
     "evalue": "shape mismatch: objects cannot be broadcast to a single shape",
     "output_type": "error",
     "traceback": [
      "\u001b[0;31m---------------------------------------------------------------------------\u001b[0m",
      "\u001b[0;31mValueError\u001b[0m                                Traceback (most recent call last)",
      "\u001b[0;32m/tmp/ipykernel_20553/1377396921.py\u001b[0m in \u001b[0;36m<cell line: 1>\u001b[0;34m()\u001b[0m\n\u001b[0;32m----> 1\u001b[0;31m np.array(['Chl','oi','fw1r','k_fw1','psi_t,crit,1',\n\u001b[0m\u001b[1;32m      2\u001b[0m         \u001b[0;34m'kchl1'\u001b[0m\u001b[0;34m,\u001b[0m \u001b[0;34m'kchl2'\u001b[0m\u001b[0;34m,\u001b[0m\u001b[0;34m'kg1'\u001b[0m\u001b[0;34m,\u001b[0m\u001b[0;34m'kjmax'\u001b[0m\u001b[0;34m,\u001b[0m \u001b[0;34m'alpha'\u001b[0m\u001b[0;34m,\u001b[0m\u001b[0;34m\u001b[0m\u001b[0;34m\u001b[0m\u001b[0m\n\u001b[1;32m      3\u001b[0m          \u001b[0;34m'omega'\u001b[0m\u001b[0;34m,\u001b[0m\u001b[0;34m'gamma0'\u001b[0m\u001b[0;34m,\u001b[0m \u001b[0;34m'gamma1'\u001b[0m\u001b[0;34m,\u001b[0m \u001b[0;34m'gamma2'\u001b[0m\u001b[0;34m,\u001b[0m\u001b[0;34m'gm'\u001b[0m\u001b[0;34m,\u001b[0m\u001b[0;34m\u001b[0m\u001b[0;34m\u001b[0m\u001b[0m\n\u001b[1;32m      4\u001b[0m         \u001b[0;34m'kx_x'\u001b[0m\u001b[0;34m,\u001b[0m\u001b[0;34m'kr_x'\u001b[0m\u001b[0;34m,\u001b[0m\u001b[0;34m\u001b[0m\u001b[0;34m\u001b[0m\u001b[0m\n\u001b[1;32m      5\u001b[0m         \u001b[0;34m'Q10'\u001b[0m\u001b[0;34m,\u001b[0m\u001b[0;34m'delta_osmo_min'\u001b[0m\u001b[0;34m,\u001b[0m\u001b[0;34m'psiMin'\u001b[0m\u001b[0;34m,\u001b[0m\u001b[0;34m'KMfu'\u001b[0m\u001b[0;34m,\u001b[0m\u001b[0;34m'Vmaxloading'\u001b[0m\u001b[0;34m,\u001b[0m\u001b[0;34m'CSTimin'\u001b[0m\u001b[0;34m,\u001b[0m\u001b[0;34m\u001b[0m\u001b[0;34m\u001b[0m\u001b[0m\n",
      "\u001b[0;31mValueError\u001b[0m: shape mismatch: objects cannot be broadcast to a single shape"
     ]
    }
   ],
   "source": [
    "np.array(['Chl','oi','k_fw1','psi_t,crit,1',\n",
    "        'kchl1', 'kchl2','kg1','kjmax', 'alpha',\n",
    "         'omega','gamma0', 'gamma1', 'gamma2','gm',\n",
    "        'kx_x','kr_x',\n",
    "        'Q10','delta_osmo_min','psiMin','KMfu','Vmaxloading','CSTimin',\n",
    "        'beta_loading', 'Mloading','Gr_Y','rhoSucrose',\n",
    "        'kx_st','kr_st','Across','krm2','krm1','rmax'] )==np.array([\n",
    "            'Chl','oi','k_fw1','psi_t,crit,1',\n",
    "                  'kchl1', 'kchl2','kg1','kjmax', 'alpha',\n",
    "                     'omega','gamma0', 'gamma1', 'gamma2','gm',\n",
    "                 'kx_x','kr_x',\n",
    "            'Q10','delta_osmo_min','psiMin','KMfu','Vmaxloading','CSTimin',\n",
    "                  'beta_loading', 'Mloading','Gr_Y','rhoSucrose',\n",
    "                 'kx_st','kr_st','Across','krm2','krm1','rmax']  )"
   ]
  },
  {
   "cell_type": "code",
   "execution_count": 12,
   "id": "953d9f3b-e880-4ed6-8095-2828edf29fb9",
   "metadata": {},
   "outputs": [
    {
     "name": "stdout",
     "output_type": "stream",
     "text": [
      "7 0\n"
     ]
    }
   ],
   "source": [
    "print(len([np.array([]) for i in range(7)]),len([np.array([]) for i in range(7)][0]))"
   ]
  },
  {
   "cell_type": "code",
   "execution_count": 29,
   "id": "9856b349-cbbb-46d8-92f0-b3001dd8aeca",
   "metadata": {},
   "outputs": [
    {
     "data": {
      "text/plain": [
       "array([0.59375, 0.96875, 0.96875, 1.15625, 0.96875, 0.96875, 0.59375,\n",
       "       0.78125, 0.96875, 0.59375, 0.96875, 1.46875, 0.59375, 0.78125,\n",
       "       1.46875, 1.15625, 0.96875, 1.46875, 1.15625, 0.78125, 0.96875,\n",
       "       1.15625, 0.78125, 1.46875, 1.09375, 1.46875, 1.46875, 0.65625,\n",
       "       1.46875, 1.46875, 1.09375, 1.28125, 1.46875, 1.09375, 1.46875,\n",
       "       0.96875, 1.09375, 1.28125, 0.96875, 0.65625, 1.46875, 0.96875,\n",
       "       0.65625, 1.28125, 1.46875, 0.65625, 1.28125, 0.96875])"
      ]
     },
     "execution_count": 29,
     "metadata": {},
     "output_type": "execute_result"
    }
   ],
   "source": [
    "tmp_obj.flatten()"
   ]
  },
  {
   "cell_type": "code",
   "execution_count": 6,
   "id": "eac55afb-b7e0-4e4e-8363-ba78c75edf1a",
   "metadata": {},
   "outputs": [
    {
     "name": "stdout",
     "output_type": "stream",
     "text": [
      "didDo 0 , to do 348 , will do 1 n_job 79 348\n",
      "/p/project/cesmtst/giraud1/CPlantBox/applications/sobol\n",
      "../../modelparameter/plant/Triticum_aestivum_adapted_2023.xml\n",
      "MappedPlant::initialize \n",
      "Seed::initialize: Plant \n",
      "Seed::initialize: Basal root type #4 was not defined, using tap root parameters instead\n",
      "Tiller stem type #4 was not defined, using main stem parameters instead, Exchange zone in roots: kr > 0 until 0.8cm from root tip\n",
      "Kr is constant per subtype of organ type, for root, subtype 0 = 4.66863e-05 1 day-1 \n",
      "Kx is constant per subtype of organ type, for root, subtype 0 = 0.0480529 cm3 day-1 \n",
      "Exchange zone in roots: kr_st > 0 until 0.8cm from root tip 1 1\n",
      "Exchange zone in roots: kr > 0 until 0.8cm from root tip\n",
      "Kr_st is constant per subtype of organ type, for root, subtype 1 = 0.0515625 1 day-1 \n",
      "Kx_st is constant per subtype of organ type, for root, subtype 1 = 1.36735e-13 cm3 day-1 \n",
      "Across_st is constant per subtype of organ type, for root, subtype 1 = 1.23271e-05 cm2 \n",
      "krm2 is constant 2.3125e-05 -\n",
      "krm1 is constant 0.140625 -\n",
      "rhoSucrose is constant per organ type, organ type 2 (root) = 0.494063 mmol cm-3\n",
      "Rmax_st is constant per subtype of organ type, for root, subtype 1 = 9.84375 cm day-1 \n",
      "Output times :\n",
      " 10 10.125\n",
      "starting integration on time segment #1 = [10, 10.125] 2 2\n",
      "at t = 10 : Y0.size() = 3249\n",
      "at 19:37:32 :  starting step n#1 (tf = 10.125)\n",
      "at t = 10.125 : Y0.size() = 3249\n",
      "\n",
      "Final Statistics:\n",
      "nst (num steps) = 11363  nfe  (num call to f)= 20743  nsetups (call to lin solver setup func)= 0     \n",
      "\n",
      "nni (iter of nonlinear solver) = 20740  ncfn (non linsolver conv fail)= 4668   netf (num err test fail) = 0      nge (call to root function) = 0\n",
      " \n",
      "\n",
      "at 19:37:32 :  exiting solver\n",
      "MEMORY LIBERATIONS\n",
      "fortran to python vector\n",
      "computeOrgGrowth\n"
     ]
    }
   ],
   "source": [
    "\n",
    "\n",
    "\n",
    "didDo = 0\n",
    "parallelizer = Parallel(n_jobs= 1)#max(1,maxcore - 1))\n",
    "\n",
    "\n",
    "while didDo < 1:#len(param_values):\n",
    "    n_jobs_ =1# min(maxcore - 1,len(param_values) -  didDo)\n",
    "    print(\"didDo\",didDo, \", to do\",len(param_values), \", will do\",n_jobs_,\"n_job\",max(1,maxcore - 1),len(param_values))\n",
    "    if True:#idtorun == -1:\n",
    "        tasks_iterator = (delayed(SobolTest)\n",
    "                                (i,weatherX, \n",
    "                                 namesVars,  list(param_values[didDo + i]), #all the var values\n",
    "                                 simDuration,condition,\"SEB\",power2)\n",
    "                            for i in range(n_jobs_))\n",
    "        results = parallelizer(tasks_iterator)\n",
    "    else:\n",
    "        SobolTest(idtorun,weatherX, \n",
    "                 namesVars,  list(param_values[idtorun]), #all the var values\n",
    "                 simDuration,condition,\"SEB\")\n",
    "    #Yexuds = np.concatenate((Yexuds,[smalldic[0] for smalldic in results ]))\n",
    "    #Ygrs = np.concatenate((Ygrs,[smalldic[1] for smalldic in results ]))\n",
    "    #Yrms = np.concatenate((Yrms,[smalldic[2] for smalldic in results ]))\n",
    "    #Ytrans = np.concatenate((Ytrans,[smalldic[3] for smalldic in results ]))\n",
    "    #Yassi = np.concatenate((Yrms,[smalldic[4] for smalldic in results ]))\n",
    "    #Ywue = np.concatenate((Ywue,[smalldic[5] for smalldic in results ]))\n",
    "\n",
    "\n",
    "    for j in range(len(Yall)):\n",
    "        Yall[j] = np.concatenate((Yall[j] ,[smalldic[j] for smalldic in results ]))\n",
    "    allLoops   = np.concatenate((allLoops,[smalldic[7] for smalldic in results ])) \n",
    "    didDo += n_jobs_\n",
    "\n"
   ]
  },
  {
   "cell_type": "code",
   "execution_count": 9,
   "id": "dde2147e-0666-42ef-84d4-61ba9b3e2e9d",
   "metadata": {},
   "outputs": [],
   "source": [
    "size=696;condition=\"wet\";simDuration=10"
   ]
  },
  {
   "cell_type": "code",
   "execution_count": 10,
   "id": "3e7b245d-f860-4367-9670-fa0763ee28c9",
   "metadata": {},
   "outputs": [],
   "source": [
    "addToName = str(size)+condition+str(simDuration)\n",
    "fileDir ='results/sobolSEB/'+addToName+\"/\"+'YAlls_R'+repr(size)+\"_\"+repr(simDuration)+\"_\"+condition+'.pkl'"
   ]
  },
  {
   "cell_type": "code",
   "execution_count": 11,
   "id": "8a3dce68-dabf-45e6-8463-a9db61f6cfee",
   "metadata": {},
   "outputs": [],
   "source": [
    "del Yall"
   ]
  },
  {
   "cell_type": "code",
   "execution_count": 11,
   "id": "55926e82-3b29-431f-a10a-92ed298df61a",
   "metadata": {},
   "outputs": [
    {
     "data": {
      "text/plain": [
       "array([1, 2, 3])"
      ]
     },
     "execution_count": 11,
     "metadata": {},
     "output_type": "execute_result"
    }
   ],
   "source": [
    "np.hstack((1,2,3))"
   ]
  },
  {
   "cell_type": "code",
   "execution_count": 12,
   "id": "cd07ac42-5650-45d6-ac3a-b9bb7c241830",
   "metadata": {},
   "outputs": [
    {
     "ename": "NameError",
     "evalue": "name 'fileDir' is not defined",
     "output_type": "error",
     "traceback": [
      "\u001b[0;31m---------------------------------------------------------------------------\u001b[0m",
      "\u001b[0;31mNameError\u001b[0m                                 Traceback (most recent call last)",
      "\u001b[0;32m/tmp/ipykernel_20553/848151652.py\u001b[0m in \u001b[0;36m<cell line: 1>\u001b[0;34m()\u001b[0m\n\u001b[0;32m----> 1\u001b[0;31m \u001b[0;32mwith\u001b[0m \u001b[0mopen\u001b[0m\u001b[0;34m(\u001b[0m\u001b[0mfileDir\u001b[0m\u001b[0;34m,\u001b[0m\u001b[0;34m'rb'\u001b[0m\u001b[0;34m)\u001b[0m \u001b[0;32mas\u001b[0m \u001b[0mf\u001b[0m\u001b[0;34m:\u001b[0m \u001b[0;31m# Use this to load temporary or final results\u001b[0m\u001b[0;34m\u001b[0m\u001b[0;34m\u001b[0m\u001b[0m\n\u001b[0m\u001b[1;32m      2\u001b[0m         \u001b[0mYall\u001b[0m\u001b[0;34m=\u001b[0m\u001b[0mpickle\u001b[0m\u001b[0;34m.\u001b[0m\u001b[0mload\u001b[0m\u001b[0;34m(\u001b[0m\u001b[0mf\u001b[0m\u001b[0;34m)\u001b[0m              \u001b[0;31m# together with every used variable\u001b[0m\u001b[0;34m\u001b[0m\u001b[0;34m\u001b[0m\u001b[0m\n",
      "\u001b[0;31mNameError\u001b[0m: name 'fileDir' is not defined"
     ]
    }
   ],
   "source": [
    "\n",
    "with open(fileDir,'rb') as f: # Use this to load temporary or final results                                  \n",
    "\tYall=pickle.load(f)              # together with every used variable"
   ]
  },
  {
   "cell_type": "code",
   "execution_count": 19,
   "id": "2288667e-8ca0-443d-b017-ac0a9f1867c1",
   "metadata": {},
   "outputs": [
    {
     "name": "stdout",
     "output_type": "stream",
     "text": [
      "9wet10All\n",
      "Yexuds\n",
      "Ygrs\n",
      "Yrms\n",
      "Ytrans\n",
      "Yassi\n",
      "Ywue\n",
      "YIwue\n",
      "\n",
      "\n",
      "9dry10All\n",
      "Yexuds\n",
      "Ygrs\n",
      "Yrms\n",
      "Ytrans\n",
      "Yassi\n",
      "Ywue\n",
      "YIwue\n",
      "\n",
      "\n",
      "7wet20All\n",
      "Yexuds\n",
      "Ygrs\n",
      "Yrms\n",
      "Ytrans\n",
      "Yassi\n",
      "Ywue\n",
      "YIwue\n",
      "\n",
      "\n",
      "7dry20All\n",
      "Yexuds\n",
      "Ygrs\n",
      "Yrms\n",
      "Ytrans\n",
      "Yassi\n",
      "Ywue\n",
      "YIwue\n",
      "\n",
      "\n"
     ]
    }
   ],
   "source": [
    "\n",
    "todos=[[9,\"wet\",10],[9,\"dry\",10],[7,\"wet\",20],[7,\"dry\",20]]\n",
    "\n",
    "for todo in todos:\n",
    "    \n",
    "    size = todo[0]\n",
    "    simDuration= todo[2]\n",
    "    condition=todo[1]\n",
    "    \n",
    "    addToName = str(size)+condition+str(simDuration)+\"All\"\n",
    "    print(addToName)\n",
    "    fileDir ='results/sobolSEB/'+addToName+\"/\"+'YAlls_R'+repr(size)+\"_\"+repr(simDuration)+\"_\"+condition+'All.pkl'\n",
    "    with open(fileDir,'rb') as f: # Use this to load temporary or final results                                  \n",
    "        Yall=pickle.load(f)              # together with every used variable\n",
    "    for j in range(7):#, Yout in enumerate(Yall):\n",
    "\n",
    "        Yout = Yall[namesY[j]]\n",
    "        print(namesY[j])\n",
    "        Si = sobol.analyze(problem, Yout)\n",
    "        #print(Si['S1'])\n",
    "        #print(Si['ST'])\n",
    "        #print(\"ST_conf/ST\")\n",
    "        #print(Si['ST_conf']/Si['ST'])\n",
    "        \n",
    "\n",
    "        with open('results/sobolSEB/'+str(size)+condition+str(simDuration)+\"All/\"+namesY[j]+'_R'+addToName+'All.pkl','wb') as f:\n",
    "             pickle.dump(Si,f, protocol=pickle.HIGHEST_PROTOCOL)\n",
    "        with open('results/sobolSEB/'+str(size)+condition+str(simDuration)+\"All/\"+namesY[j]+'_R'+addToName+\"All.txt\", 'w') as f: \n",
    "            for key, value in Si.items(): \n",
    "                f.write('%s:%s\\n' % (key, value))\n",
    "    print();print()\n",
    "    with open('results/sobolSEB/'+str(size)+condition+str(simDuration)+'All/loopsAll.txt', 'w') as log:\n",
    "        log.write(','.join([num for num in map(str, allLoops)])  +'\\n')"
   ]
  },
  {
   "cell_type": "code",
   "execution_count": 20,
   "id": "c419c6b3-015f-46dc-bdf9-b3ddc083b79b",
   "metadata": {},
   "outputs": [],
   "source": [
    "import pandas as pd\n",
    "def getData(simDuration, condition,data,reps):\n",
    "    addToName =   repr(reps)+condition+repr(simDuration)+\"All\"\n",
    "    results_dir = \"./results/sobolSEB/\"+addToName+\"/\"\n",
    "    with open(results_dir + data+'_R'+addToName+'All.pkl','rb') as f:\n",
    "        allS = pickle.load(f)\n",
    "        Siev = allS['ST']\n",
    "        Sievconf = allS['ST_conf']\n",
    "    df = pd.DataFrame(np.array([Siev]), columns =clonamesAll)\n",
    "    df_conf = pd.DataFrame(np.array([Sievconf]), columns =clonamesAll)\n",
    "    dfmean = pd.DataFrame(data=df.mean(),columns=[\"mean\"])\n",
    "    dfmean[\"maxst\"] = (df + df_conf).max()\n",
    "    dfmean[\"minst\"] = (df - df_conf).min()\n",
    "    dfmean['variables']=dfmean.index\n",
    "    dfmeanEv21w = dfmean\n",
    "    if condition == \"wet\":\n",
    "        dfmeanEv21w['condition'] = \"wetter&colder\"\n",
    "    else:\n",
    "        dfmeanEv21w['condition'] = \"drier&warmer\"\n",
    "    dfmeanEv21w['simDuration'] =str(simDuration)+ \"d\"\n",
    "    \n",
    "    dfmeanEv21w[\"variable\"] = data\n",
    "    return dfmeanEv21w\n",
    "\n",
    "def getAllvar(simDuration, condition,reps):\n",
    "    df_ =[]\n",
    "    for data_ in [\"Ytrans\",\"Yassi\",\"Ygrs\",\"Ywue\",\"YIwue\"]:\n",
    "        df_.append( getData(simDuration, condition,data_,reps))\n",
    "    return pd.concat(df_)"
   ]
  },
  {
   "cell_type": "code",
   "execution_count": 21,
   "id": "434f683b-8007-4ee4-bcc0-feca2c2e652e",
   "metadata": {},
   "outputs": [],
   "source": [
    "#todos=[[6,\"wet\",10],[6,\"dry\",10],[6,\"wet\",20],[6,\"dry\",20]]\n",
    "\n",
    "\n",
    "clonamesAll = [\"maxTil\" ,\"firstTil\",\"delayTil\" ,\"maxB\",\"firstB\",\"delayB\",\n",
    "        \"delayLat\",\"delayNGStart\",\"delayNGEnd\",\n",
    "        \"lar0\", \"lbr0\", \"lnr0\", \"lmaxr0\", \"rr0\", \"ar0\", \"tropismNr0\", \"tropismSr0\", \"thetar0\",\n",
    "        \"lar1\", \"lbr1\", \"lnr1\", \"lmaxr1\", \"rr1\", \"ar1\", \"tropismNr1\", \"tropismSr1\", \"thetar1\",\n",
    "        \"lmaxr2\", \"rr2\", \"ar2\", \"tropismNr2\", \"tropismSr2\", \"thetar2\",\n",
    "        \"last\", \"lbst\", \"lnst\", \"lmaxst\", \"rst\", \"ast\", \"tropismNst\", \"tropismSst\",\n",
    "        \"lmaxle\", \"rle\", \"ale\", \"tropismNle\", \"tropismSle\", \"thetale\",\"Width_petiole\",\"Width_blade\",\n",
    "        'Chl','oi','k_fw1','psi_t,crit,1',\n",
    "        'kchl1', 'kchl2','kg1','kjmax', 'alpha',\n",
    "        'omega','gamma0', 'gamma1', 'gamma2','gm',\n",
    "        'kx_x','kr_x',\n",
    "        'Q10','delta_osmo_min','psiMin','KMfu','Vmaxloading','CSTimin',\n",
    "        'beta_loading', 'Mloading','Gr_Y','rhoSucrose',\n",
    "        'kx_st','kr_st','Across','krm2','krm1']   \n",
    "\n",
    "dfYW = pd.concat([getAllvar(todo[2], todo[1],todo[0]) for todo in todos])"
   ]
  },
  {
   "cell_type": "code",
   "execution_count": 22,
   "id": "0509e338-a47e-4ff0-80a2-08d75c75a309",
   "metadata": {},
   "outputs": [],
   "source": [
    "with open('rep6allAll.pkl','wb') as f:\n",
    "    pickle.dump(dfYW,f, protocol=pickle.HIGHEST_PROTOCOL)"
   ]
  },
  {
   "cell_type": "code",
   "execution_count": 48,
   "id": "05ea7e23-3062-447a-9512-a4ce1cf462aa",
   "metadata": {},
   "outputs": [
    {
     "name": "stdout",
     "output_type": "stream",
     "text": [
      "power2, cpu 10\n"
     ]
    },
    {
     "name": "stderr",
     "output_type": "stream",
     "text": [
      "/tmp/ipykernel_20553/1307444555.py:38: DeprecationWarning: `salib.sample.saltelli` will be removed in SALib 1.5. Please use `salib.sample.sobol`\n",
      "  param_values = saltelli.sample(problem, reps)\n"
     ]
    },
    {
     "name": "stdout",
     "output_type": "stream",
     "text": [
      "9wet20functional\n",
      "Yexuds 33792\n",
      "Ygrs 33792\n",
      "Yrms 33792\n",
      "Ytrans 33792\n",
      "Yassi 33792\n",
      "Ywue 33792\n",
      "YIwue 33792\n",
      "\n",
      "\n",
      "power2, cpu 10\n",
      "9dry20functional\n",
      "Yexuds 33792\n",
      "Ygrs 33792\n",
      "Yrms 33792\n",
      "Ytrans 33792\n",
      "Yassi 33792\n",
      "Ywue 33792\n",
      "YIwue 33792\n",
      "\n",
      "\n"
     ]
    }
   ],
   "source": [
    "###\n",
    "# Only functional\n",
    "####\n",
    "\n",
    "todos=[[9,\"wet\",20],[9,\"dry\",20]]#[[9,\"wet\",10]]#,[9,\"wet\",10],\n",
    "\n",
    "for todo in todos:\n",
    "    \n",
    "    size = todo[0]\n",
    "    simDuration= todo[2]\n",
    "    condition=todo[1]\n",
    "    \n",
    "    namesVars = [\n",
    "                'Chl','oi','k_fw1','psi_t,crit,1',\n",
    "                      'kchl1', 'kchl2','kg1','kjmax', 'alpha',\n",
    "                         'omega','gamma0', 'gamma1', 'gamma2','gm',\n",
    "                     'kx_x','kr_x',\n",
    "                'Q10','delta_osmo_min','psiMin','KMfu','Vmaxloading','CSTimin',\n",
    "                      'beta_loading', 'Mloading','Gr_Y','rhoSucrose',\n",
    "                     'kx_st','kr_st','Across','krm2','krm1','rmax']   \n",
    "\n",
    "\n",
    "    #namesVars =[\"maxTil\" ,\"firstTil\",\"delayTil\"]\n",
    "    limsVars = [[0.5,1.5] for ii in namesVars]\n",
    "    problem = {\n",
    "        'num_vars': len(namesVars),\n",
    "        'names': namesVars,\n",
    "        'bounds': limsVars\n",
    "    }\n",
    "\n",
    "\n",
    "    ##### TO CHANGE ######\n",
    "    #power2 = 6\n",
    "    reps =2**size\n",
    "    print('power2, cpu',power2)\n",
    "    ######################\n",
    "\n",
    "    param_values = saltelli.sample(problem, reps)\n",
    "    addToName = str(size)+condition+str(simDuration)+\"functional\"\n",
    "    print(addToName)\n",
    "    fileDir ='results/sobolSEB/'+addToName+\"/\"+'YAlls_R'+repr(size)+\"_\"+repr(simDuration)+\"_\"+condition+'functional.pkl'\n",
    "    with open(fileDir,'rb') as f: # Use this to load temporary or final results                                  \n",
    "        Yall=pickle.load(f)              # together with every used variable\n",
    "    for j in range(7):#, Yout in enumerate(Yall):\n",
    "\n",
    "        Yout = Yall[namesY[j]]\n",
    "        print(namesY[j],len(Yout))\n",
    "        Si = sobol.analyze(problem, Yout)\n",
    "        #print(Si['S1'])\n",
    "        #print(Si['ST'])\n",
    "        #print(\"ST_conf/ST\")\n",
    "        #print(Si['ST_conf']/Si['ST'])\n",
    "        \n",
    "\n",
    "        with open('results/sobolSEB/'+addToName+\"/\"+namesY[j]+'_R'+addToName+'.pkl','wb') as f:\n",
    "             pickle.dump(Si,f, protocol=pickle.HIGHEST_PROTOCOL)\n",
    "        with open('results/sobolSEB/'+addToName+\"/\"+namesY[j]+'_R'+addToName+\".txt\", 'w') as f: \n",
    "            for key, value in Si.items(): \n",
    "                f.write('%s:%s\\n' % (key, value))\n",
    "    print();print()\n",
    "    with open('results/sobolSEB/'+addToName+'/loopsfunctional.txt', 'w') as log:\n",
    "        log.write(','.join([num for num in map(str, allLoops)])  +'\\n')"
   ]
  },
  {
   "cell_type": "code",
   "execution_count": 38,
   "id": "9ec06bb4-cba8-4019-93d4-0c11b9391bd4",
   "metadata": {},
   "outputs": [],
   "source": [
    "import sys\n",
    "import numpy\n",
    "numpy.set_printoptions(threshold=sys.maxsize)\n",
    "#Yall['Ygrs']"
   ]
  },
  {
   "cell_type": "code",
   "execution_count": 49,
   "id": "87c707be-fadc-4a94-9508-8767eaf14255",
   "metadata": {},
   "outputs": [],
   "source": [
    "import pandas as pd\n",
    "def getData(simDuration, condition,data,reps):\n",
    "    addToName =   repr(reps)+condition+repr(simDuration)+\"functional\"\n",
    "    results_dir = \"./results/sobolSEB/\"+addToName+\"/\"\n",
    "    with open(results_dir + data+'_R'+addToName+'.pkl','rb') as f:\n",
    "        allS = pickle.load(f)\n",
    "        Siev = allS['ST']\n",
    "        Sievconf = allS['ST_conf']\n",
    "    df = pd.DataFrame(np.array([Siev]), columns =clonamesAll)\n",
    "    df_conf = pd.DataFrame(np.array([Sievconf]), columns =clonamesAll)\n",
    "    dfmean = pd.DataFrame(data=df.mean(),columns=[\"mean\"])\n",
    "    dfmean[\"maxst\"] = (df + df_conf).max()\n",
    "    dfmean[\"minst\"] = (df - df_conf).min()\n",
    "    dfmean['variables']=dfmean.index\n",
    "    dfmeanEv21w = dfmean\n",
    "    if condition == \"wet\":\n",
    "        dfmeanEv21w['condition'] = \"wetter&colder\"\n",
    "    else:\n",
    "        dfmeanEv21w['condition'] = \"drier&warmer\"\n",
    "    dfmeanEv21w['simDuration'] =str(simDuration)+ \"d\"\n",
    "    \n",
    "    dfmeanEv21w[\"variable\"] = data\n",
    "    return dfmeanEv21w\n",
    "\n",
    "def getAllvar(simDuration, condition,reps):\n",
    "    df_ =[]\n",
    "    for data_ in [\"Ytrans\",\"Yassi\",\"Ygrs\",\"Ywue\",\"YIwue\"]:\n",
    "        df_.append( getData(simDuration, condition,data_,reps))\n",
    "    return pd.concat(df_)"
   ]
  },
  {
   "cell_type": "code",
   "execution_count": 50,
   "id": "aebd6cb0-d739-4fed-ace2-b55660164760",
   "metadata": {},
   "outputs": [],
   "source": [
    "\n",
    "clonamesAll = [\n",
    "        'Chl','oi','k_fw1','psi_t,crit,1',\n",
    "        'kchl1', 'kchl2','kg1','kjmax', 'alpha',\n",
    "        'omega','gamma0', 'gamma1', 'gamma2','gm',\n",
    "        'kx_x','kr_x',\n",
    "        'Q10','delta_osmo_min','psiMin','KMfu','Vmaxloading','CSTimin',\n",
    "        'beta_loading', 'Mloading','Gr_Y','rhoSucrose',\n",
    "        'kx_st','kr_st','Across','krm2','krm1','rmax']   \n",
    "\n",
    "dfYW = pd.concat([getAllvar(todo[2], todo[1],todo[0]) for todo in todos])"
   ]
  },
  {
   "cell_type": "code",
   "execution_count": 51,
   "id": "91ab4217-ba9a-46b0-8ba4-b536ba178e74",
   "metadata": {},
   "outputs": [],
   "source": [
    "with open('rep6allfunctional.pkl','wb') as f:\n",
    "    pickle.dump(dfYW,f, protocol=pickle.HIGHEST_PROTOCOL)"
   ]
  },
  {
   "cell_type": "code",
   "execution_count": null,
   "id": "9a5a3a43-0ada-4286-b313-c1c21ff727c7",
   "metadata": {},
   "outputs": [],
   "source": []
  }
 ],
 "metadata": {
  "kernelspec": {
   "display_name": "Python 3 (ipykernel)",
   "language": "python",
   "name": "python3"
  },
  "language_info": {
   "codemirror_mode": {
    "name": "ipython",
    "version": 3
   },
   "file_extension": ".py",
   "mimetype": "text/x-python",
   "name": "python",
   "nbconvert_exporter": "python",
   "pygments_lexer": "ipython3",
   "version": "3.9.6"
  }
 },
 "nbformat": 4,
 "nbformat_minor": 5
}
